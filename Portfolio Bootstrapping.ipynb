{
 "cells": [
  {
   "cell_type": "markdown",
   "metadata": {},
   "source": [
    "Credit to Prof. Nancy Xu, PhD from Boston College: Data Analytics in Finance Course\n",
    "\n",
    "Researchers use bootstrapping methodologies to understand how certain we are about $\\hat{\\theta}_N$. <b>You will bootstrap <font color='blue'>6</font> asset returns, one-by-one, to infer <font color='blue'>how certain we are about each asset's volatility</b> (return volatility=return standard deviation).</font> \n",
    "\n",
    "<span style=\"background-color: #ffff66\">Asset returns: QUESTION1DATA.csv</span>\n",
    "\n",
    "  1. S&P GSCI Commodity Returns<br>\n",
    "  2. S&P GSCI Gold Returns<br>\n",
    "  3. MSCI USA Stock Market Returns <br>\n",
    "  4. MSCI Emerging Market Returns <br>\n",
    "  5. MSCI Euro Area Market Returns <br>\n",
    "  6. US 10-Year Government Bond Returns<br>\n",
    "\n",
    "All asset returns are expressed in current US dollars (source: DataStream; MSCI; Bloomberg). These are monthly returns (not in percentage points); that is, for instance, \"0.026561915\" in Cell B2 means that changes in the world commodity price from December 1987 to January 1988 $\\frac{P_{1988/01}-P_{1987/12}}{P_{1987/12}}*100\\%$ is 2.66\\%. The data is balanced from January 1988 to December 2020 (N=396 months).  \n",
    "\n",
    "<span style=\"background-color: #ffff66\">Parameters:</span>\n",
    " * Each bootstrapping subsample has <font color='blue'>300</font> observations;\n",
    " * We bootstrap for <font color='blue'>10000</font> rounds. \n",
    "\n",
    "<span style=\"background-color: #ffff66\">Discussion suggestions:</span>\n",
    "\n",
    "Here are some questions to think about and eventually help you organize your discussions: \n",
    "* What is the sample standard deviation? (You should not use numpy or other canned functions)\n",
    "* What is the mean of all bootstrapped standard deviations? And how does it compare to the sample standard deviation? \n",
    "* Can you compare the (un)certainty across the 6 asset volatilities?\n",
    "* When you change some parameters in the boostrapping procedure, do you see different results? Why?\n",
    "* Your own topic\n",
    "\n",
    "\n",
    "<span style=\"background-color: #ffff66\">Editorial suggestion:</span>\n",
    "* Please make your answers and procedures easy to read and follow\n",
    "* print+format, markdowns, plots... these are all helpful tools. \n",
    "\n",
    "-------------"
   ]
  },
  {
   "cell_type": "code",
   "execution_count": 5,
   "metadata": {},
   "outputs": [
    {
     "name": "stdout",
     "output_type": "stream",
     "text": [
      "        DATE  COMMODITY      GOLD  STOCK_US  STOCK_EM  STOCK_EUROPE  \\\n",
      "0  1/29/1988   0.026562 -0.069215  0.042834  0.098380     -0.040626   \n",
      "1  2/29/1988  -0.011024 -0.053320  0.041869  0.003396      0.059266   \n",
      "2  3/31/1988   0.050392  0.054769 -0.033456  0.107385      0.027948   \n",
      "3  4/29/1988   0.031047 -0.006874  0.009184  0.053382      0.019014   \n",
      "4  5/31/1988   0.035301  0.011578  0.008603  0.029962     -0.018278   \n",
      "\n",
      "   GOVBOND_US  \n",
      "0    0.047578  \n",
      "1    0.009004  \n",
      "2   -0.019963  \n",
      "3   -0.013340  \n",
      "4   -0.013437  \n",
      "396\n"
     ]
    }
   ],
   "source": [
    "import pandas\n",
    "import math\n",
    "import random\n",
    "\n",
    "data = pandas.read_csv('QUESTION1DATA.csv', header=0,parse_dates=True)\n",
    "print(data.head())\n",
    "print(len(data['DATE']))"
   ]
  },
  {
   "cell_type": "code",
   "execution_count": 6,
   "metadata": {},
   "outputs": [],
   "source": [
    "portlist = ['COMMODITY', 'GOLD', 'STOCK_US', 'STOCK_EM', 'STOCK_EUROPE', 'GOVBOND_US']"
   ]
  },
  {
   "cell_type": "code",
   "execution_count": 7,
   "metadata": {},
   "outputs": [],
   "source": [
    "# Step 1: Conduct bootstrapping procedure [10pts]\n",
    "def bootstrap(q1data,plist,obs,rounds): #input data, portfolio list names, # of observations, and # of rounds \n",
    "    sd = []\n",
    "    sd_total = []\n",
    "    for asset in plist: \n",
    "        for i in range(rounds): \n",
    "            sampling = random.sample(list(q1data[asset]),obs) #sampling given parameters of observations and rounds \n",
    "            asset_mean = sum(sampling)/len(sampling) \n",
    "            asset_var = sum([(x - asset_mean)**2 for x in sampling])/(len(sampling)-1)\n",
    "            asset_sd = asset_var**0.5 * 100\n",
    "            sd.append(asset_sd) #appending the sd of the asset in question per round \n",
    "        sd_total.append(sd) #adding a list to a bigger list \n",
    "        sd = [] # redoing the list \n",
    "    return sd_total    \n",
    "result = bootstrap(data,portlist,300,10000) "
   ]
  },
  {
   "cell_type": "code",
   "execution_count": 8,
   "metadata": {},
   "outputs": [
    {
     "name": "stdout",
     "output_type": "stream",
     "text": [
      "The average and standard deviation of the bootstrapped volatilities for COMMODITY are 6.15% and 0.19%\n",
      "The average and standard deviation of the bootstrapped volatilities for GOLD are 4.42% and 0.11%\n",
      "The average and standard deviation of the bootstrapped volatilities for STOCK_US are 4.22% and 0.11%\n",
      "The average and standard deviation of the bootstrapped volatilities for STOCK_EM are 6.48% and 0.18%\n",
      "The average and standard deviation of the bootstrapped volatilities for STOCK_EUROPE are 4.99% and 0.13%\n",
      "The average and standard deviation of the bootstrapped volatilities for GOVBOND_US are 2.05% and 0.05%\n"
     ]
    }
   ],
   "source": [
    "boot_mean = []\n",
    "boot_sd = [] #sd of bootstrap sd list \n",
    "for volatilities in result: \n",
    "    mean = sum(volatilities)/len(volatilities) \n",
    "    variance = sum([(x-mean)**2 for x in volatilities])/len(volatilities) \n",
    "    std = variance**0.5 \n",
    "    boot_mean.append(mean)\n",
    "    boot_sd.append(std)\n",
    "for i in range(len(boot_sd)): #for loop for bootstrap results \n",
    "    print('The average and standard deviation of the bootstrapped volatilities for {} are {:3.2f}% and {:3.2f}%'.format(portlist[i],boot_mean[i],boot_sd[i]))"
   ]
  },
  {
   "cell_type": "code",
   "execution_count": 9,
   "metadata": {},
   "outputs": [
    {
     "name": "stdout",
     "output_type": "stream",
     "text": [
      "The asset COMMODITY has a mean daily average return of 0.35% and a daily volatility of 6.15%\n",
      "The asset GOLD has a mean daily average return of 0.43% and a daily volatility of 4.41%\n",
      "The asset STOCK_US has a mean daily average return of 0.98% and a daily volatility of 4.21%\n",
      "The asset STOCK_EM has a mean daily average return of 1.08% and a daily volatility of 6.47%\n",
      "The asset STOCK_EUROPE has a mean daily average return of 0.79% and a daily volatility of 4.99%\n",
      "The asset GOVBOND_US has a mean daily average return of 0.53% and a daily volatility of 2.04%\n"
     ]
    }
   ],
   "source": [
    "for name in portlist:  #for loop for the sample asset averages and volatilities \n",
    "    l_data = list(data[name])\n",
    "    sample_mean = sum(l_data)/len(l_data) * 100 \n",
    "    sample_var = sum([(x*100 - sample_mean)**2 for x in l_data])/len(l_data) \n",
    "    sample_std = sample_var**0.5 \n",
    "    print('The asset {} has a mean daily average return of {:3.2f}% and a daily volatility of {:3.2f}%'.format(name,sample_mean,sample_std))"
   ]
  },
  {
   "cell_type": "code",
   "execution_count": 10,
   "metadata": {},
   "outputs": [
    {
     "name": "stdout",
     "output_type": "stream",
     "text": [
      "The average and standard deviation of the bootstrapped volatilities for COMMODITY are 6.18% and 0.51%\n",
      "The average and standard deviation of the bootstrapped volatilities for GOLD are 4.42% and 0.37%\n",
      "The average and standard deviation of the bootstrapped volatilities for STOCK_US are 4.20% and 0.29%\n",
      "The average and standard deviation of the bootstrapped volatilities for STOCK_EM are 6.47% and 0.50%\n",
      "The average and standard deviation of the bootstrapped volatilities for STOCK_EUROPE are 4.96% and 0.43%\n",
      "The average and standard deviation of the bootstrapped volatilities for GOVBOND_US are 2.00% and 0.16%\n"
     ]
    }
   ],
   "source": [
    "result = bootstrap(data,portlist,100,100) #changing parameters to 100 observations and 100 iterations for discussion \n",
    "boot_mean = []\n",
    "boot_sd = [] \n",
    "for volatilities in result: \n",
    "    mean = sum(volatilities)/len(volatilities) \n",
    "    variance = sum([(x-mean)**2 for x in volatilities])/len(volatilities) \n",
    "    std = variance**0.5 \n",
    "    boot_mean.append(mean)\n",
    "    boot_sd.append(std)\n",
    "for i in range(len(boot_sd)): #for loop for bootstrap results \n",
    "    print('The average and standard deviation of the bootstrapped volatilities for {} are {:3.2f}% and {:3.2f}%'.format(portlist[i],boot_mean[i],boot_sd[i]))"
   ]
  },
  {
   "cell_type": "markdown",
   "metadata": {},
   "source": [
    "Discussion:\n",
    "+ There is no surprise that the mean daily volatility of the entire sample of observations is equally approximated by the average bootstrapped volatilities of the assets. With the amount of rounds reaching 10,000 iterations, then the Law of Large Numbers applies to the bootstrapping method and ensures an average volatility had we not done bootstrapping. \n",
    "+ The relationship between the average bootstrapped volatilities and its standard deviation is directly proportional. The higher the average bootstrapped volatility, or the average daily volatility of the large sample, then the standard deviation of the boostrapped volatilities increases as well. \n",
    "+ When parameters are changed to smaller numbers from 300 observations to 100 observations, and 10000 rounds to 100 rounds, one would expect more volatility in the data and less reliable results, then before. Turns out that the average bootstrapped volatilities still approximate the sample volatility, but differ somewhat at times. the standard deviation of the volatility becomes slightly more volatile. Some increase and some decrease in comparison with step 2's results. \n",
    "+ Interestingly, the more volatile bootstrapped standard deviations with lower parameters, cause an increase in the average bootstrapped volatiilites. Thus, these blow up the approximate sample volatility a little. "
   ]
  }
 ],
 "metadata": {
  "kernelspec": {
   "display_name": "Python 3",
   "language": "python",
   "name": "python3"
  },
  "language_info": {
   "codemirror_mode": {
    "name": "ipython",
    "version": 3
   },
   "file_extension": ".py",
   "mimetype": "text/x-python",
   "name": "python",
   "nbconvert_exporter": "python",
   "pygments_lexer": "ipython3",
   "version": "3.8.5"
  }
 },
 "nbformat": 4,
 "nbformat_minor": 4
}
